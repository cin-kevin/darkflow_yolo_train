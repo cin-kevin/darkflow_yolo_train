{
 "cells": [
  {
   "cell_type": "code",
   "execution_count": 45,
   "metadata": {
    "collapsed": true
   },
   "outputs": [],
   "source": [
    "import cv2\n",
    "import matplotlib.pyplot as plt\n",
    "from os import listdir\n",
    "from os.path import isfile, join\n",
    "import imutils as it\n",
    "%matplotlib inline"
   ]
  },
  {
   "cell_type": "code",
   "execution_count": 48,
   "metadata": {},
   "outputs": [
    {
     "data": {
      "text/plain": [
       "True"
      ]
     },
     "execution_count": 48,
     "metadata": {},
     "output_type": "execute_result"
    }
   ],
   "source": [
    "image = cv2.imread('train/images_raw/000014.jpg')\n",
    "image = it.rotate_bound(image=image, angle=40)\n",
    "#gray = cv2.cvtColor(image, cv2.COLOR_BGR2GRAY)\n",
    "#gray = cv2.cvtColor(gray, cv2.COLOR_BGR2RGB)\n",
    "\n",
    "#fig, ax = plt.subplots(figsize=(15, 10))\n",
    "#ax.imshow(gray)\n",
    "cv2.imwrite('train/images_post_processed/000014_rotate_40.jpg', image)"
   ]
  },
  {
   "cell_type": "code",
   "execution_count": 93,
   "metadata": {
    "scrolled": true
   },
   "outputs": [
    {
     "name": "stdout",
     "output_type": "stream",
     "text": [
      "000043.jpg_20\n",
      "000044.jpg_20\n",
      "000045.jpg_20\n",
      "000046.jpg_20\n",
      "000047.jpg_20\n",
      "000048.jpg_20\n",
      "000049.png_20\n",
      "000050.jpg_20\n",
      "000051.jpg_20\n",
      "000052.jpg_20\n",
      "000053.jpg_20\n",
      "000054.jpg_20\n",
      "000055.jpg_20\n",
      "000056.jpg_20\n",
      "000057.jpg_20\n",
      "000058.jpg_20\n",
      "000059.jpg_20\n",
      "000060.jpg_20\n",
      "000061.jpg_20\n",
      "000062.png_20\n",
      "000063.jpg_20\n",
      "000064.jpg_20\n",
      "000065.jpg_20\n",
      "000066.jpg_20\n",
      "000067.jpg_20\n",
      "000068.jpg_20\n",
      "000069.jpg_20\n",
      "000070.jpg_20\n",
      "000071.jpeg_20\n",
      "000072.png_20\n"
     ]
    }
   ],
   "source": [
    "dir_source = 'train/images_arrow_head_grayscale'\n",
    "onlyfiles = [(join(dir_source, f), f) for f in listdir(dir_source) if isfile(join(dir_source, f))]\n",
    "i=43\n",
    "for fullpath, filename in onlyfiles:\n",
    "    if filename.find('_20') >=0:\n",
    "        name_parts = os.path.splitext(filename)\n",
    "        ext = name_parts[1]\n",
    "        newfilename = (str(i)).zfill(6) + ext\n",
    "        print(newfilename)\n",
    "        i +=1"
   ]
  },
  {
   "cell_type": "code",
   "execution_count": 60,
   "metadata": {},
   "outputs": [],
   "source": [
    "def grayscale_imgages(dir_source, dir_dest):\n",
    "    onlyfiles = [(join(dir_source, f), f) for f in listdir(dir_source) if isfile(join(dir_source, f))]\n",
    "    for fullpath, filename in onlyfiles:\n",
    "        try:\n",
    "            image = cv2.imread(fullpath)\n",
    "            image = cv2.cvtColor(image, cv2.COLOR_BGR2GRAY)\n",
    "            image = cv2.cvtColor(image, cv2.COLOR_BGR2RGB)\n",
    "            cv2.imwrite(join(dir_dest, filename), image)\n",
    "            print('Done for {}'.format(fullpath))\n",
    "        except:\n",
    "            print('Error for {}'.format(fullpath))"
   ]
  },
  {
   "cell_type": "code",
   "execution_count": 86,
   "metadata": {
    "scrolled": true
   },
   "outputs": [
    {
     "name": "stdout",
     "output_type": "stream",
     "text": [
      "Done for train/images_small_arrow/000027.jpg\n",
      "Done for train/images_small_arrow/000031.jpg\n",
      "Done for train/images_small_arrow/000025.jpg\n",
      "Done for train/images_small_arrow/000030.jpg\n",
      "Done for train/images_small_arrow/000018.jpg\n",
      "Done for train/images_small_arrow/000034.jpg\n",
      "Error for train/images_small_arrow/.DS_Store\n",
      "Done for train/images_small_arrow/000020.jpg\n",
      "Done for train/images_small_arrow/000008.jpg\n",
      "Done for train/images_small_arrow/000035.jpg\n",
      "Done for train/images_small_arrow/000009.png\n",
      "Done for train/images_small_arrow/000036.jpg\n",
      "Done for train/images_small_arrow/000022.jpg\n",
      "Done for train/images_small_arrow/000042.jpg\n",
      "Done for train/images_small_arrow/000041.jpg\n",
      "Done for train/images_small_arrow/000040.jpeg\n",
      "Done for train/images_small_arrow/000013.png\n",
      "Done for train/images_small_arrow/000007.jpg\n",
      "Done for train/images_small_arrow/000012.jpg\n",
      "Done for train/images_small_arrow/000006.jpg\n",
      "Done for train/images_small_arrow/000038.jpg\n",
      "Done for train/images_small_arrow/000010.jpg\n",
      "Done for train/images_small_arrow/000004.jpg\n",
      "Done for train/images_small_arrow/000005.jpg\n",
      "Done for train/images_small_arrow/000001.jpg\n",
      "Done for train/images_small_arrow/000029.jpg\n",
      "Done for train/images_small_arrow/000028.jpg\n",
      "Done for train/images_small_arrow/000014.jpg\n",
      "Done for train/images_small_arrow/000002.png\n",
      "Done for train/images_small_arrow/000016.jpg\n",
      "Done for train/images_small_arrow/000017.jpg\n",
      "Done for train/images_small_arrow/000003.jpg\n"
     ]
    }
   ],
   "source": [
    "grayscale_imgages('train/images_small_arrow/','train/images_post_processed')"
   ]
  },
  {
   "cell_type": "code",
   "execution_count": 94,
   "metadata": {},
   "outputs": [],
   "source": [
    "def rotate_images(dir_source, dir_dest, rotate_angle):\n",
    "    onlyfiles = [(join(dir_source, f), f) for f in listdir(dir_source) if isfile(join(dir_source, f))]\n",
    "    for fullpath, filename in onlyfiles:\n",
    "        try:\n",
    "            image = cv2.imread(fullpath)\n",
    "            image = it.rotate_bound(image=image, angle=rotate_angle)\n",
    "            cv2.imwrite(join(dir_dest, str(rotate_angle) + '_' + filename), image)\n",
    "            print('Done for {}'.format(fullpath))\n",
    "        except:\n",
    "            print('Error for {}'.format(fullpath))"
   ]
  },
  {
   "cell_type": "code",
   "execution_count": 95,
   "metadata": {
    "scrolled": true
   },
   "outputs": [
    {
     "name": "stdout",
     "output_type": "stream",
     "text": [
      "Done for train/images_post_processed/000027.jpg\n",
      "Done for train/images_post_processed/000031.jpg\n",
      "Done for train/images_post_processed/000025.jpg\n",
      "Done for train/images_post_processed/000030.jpg\n",
      "Done for train/images_post_processed/000018.jpg\n",
      "Done for train/images_post_processed/000034.jpg\n",
      "Error for train/images_post_processed/.DS_Store\n",
      "Done for train/images_post_processed/000020.jpg\n",
      "Done for train/images_post_processed/000008.jpg\n",
      "Done for train/images_post_processed/000035.jpg\n",
      "Done for train/images_post_processed/000009.png\n",
      "Done for train/images_post_processed/000036.jpg\n",
      "Done for train/images_post_processed/000022.jpg\n",
      "Done for train/images_post_processed/000042.jpg\n",
      "Done for train/images_post_processed/000041.jpg\n",
      "Done for train/images_post_processed/000040.jpeg\n",
      "Done for train/images_post_processed/000013.png\n",
      "Done for train/images_post_processed/000007.jpg\n",
      "Done for train/images_post_processed/000012.jpg\n",
      "Done for train/images_post_processed/000006.jpg\n",
      "Done for train/images_post_processed/000038.jpg\n",
      "Done for train/images_post_processed/000010.jpg\n",
      "Done for train/images_post_processed/000004.jpg\n",
      "Done for train/images_post_processed/000005.jpg\n",
      "Done for train/images_post_processed/000001.jpg\n",
      "Done for train/images_post_processed/000029.jpg\n",
      "Done for train/images_post_processed/000028.jpg\n",
      "Done for train/images_post_processed/000014.jpg\n",
      "Done for train/images_post_processed/000002.png\n",
      "Done for train/images_post_processed/000016.jpg\n",
      "Done for train/images_post_processed/000017.jpg\n",
      "Done for train/images_post_processed/000003.jpg\n"
     ]
    }
   ],
   "source": [
    "rotate_images('train/images_post_processed/', 'train/images_post_processed/', 20)"
   ]
  },
  {
   "cell_type": "code",
   "execution_count": null,
   "metadata": {
    "collapsed": true
   },
   "outputs": [],
   "source": []
  }
 ],
 "metadata": {
  "kernelspec": {
   "display_name": "Python 3",
   "language": "python",
   "name": "python3"
  }
 },
 "nbformat": 4,
 "nbformat_minor": 2
}
